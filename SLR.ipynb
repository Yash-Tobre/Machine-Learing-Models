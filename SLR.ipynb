{
  "nbformat": 4,
  "nbformat_minor": 0,
  "metadata": {
    "colab": {
      "provenance": []
    },
    "kernelspec": {
      "name": "python3",
      "display_name": "Python 3"
    },
    "language_info": {
      "name": "python"
    }
  },
  "cells": [
    {
      "cell_type": "markdown",
      "source": [
        "An implementation of simple linear regression from scratch, reference taken from: https://machinelearningmastery.com/implement-simple-linear-regression-scratch-python/\n",
        "\n",
        "The process goes like\n",
        "1. Calculate required statistics\n",
        "2. Estimating coefficients\n",
        "3. Make predictions."
      ],
      "metadata": {
        "id": "4KIP5-uIxklf"
      }
    },
    {
      "cell_type": "markdown",
      "source": [
        "# Functions Required."
      ],
      "metadata": {
        "id": "6ngoLLAJjdH2"
      }
    },
    {
      "cell_type": "code",
      "source": [
        "def f_mean(values):\n",
        "  return sum(values)/len(values)"
      ],
      "metadata": {
        "id": "kCYz-yhsjga7"
      },
      "execution_count": 18,
      "outputs": []
    },
    {
      "cell_type": "code",
      "source": [
        "def f_variance(values, mn):\n",
        "  return sum([(xi-mn)**2 for xi in values])/(len(values)-1)"
      ],
      "metadata": {
        "id": "mqSlaVA4kFeU"
      },
      "execution_count": 19,
      "outputs": []
    },
    {
      "cell_type": "code",
      "source": [
        "def f_covariance(values_x, xmean, values_y, ymean):\n",
        "  covar= 0.0\n",
        "  for i in range(len(values_x)):\n",
        "    a_x = ((values_x[i]-xmean)*(values_y[i]-ymean))\n",
        "    a_x=a_x/(len(values_x)-1)\n",
        "    covar+= a_x\n",
        "  return covar "
      ],
      "metadata": {
        "id": "9KHGRxi2kSty"
      },
      "execution_count": 20,
      "outputs": []
    },
    {
      "cell_type": "code",
      "source": [
        "#testing the functions the answers should be xmean = 20.6, ymean = 15.2 and covariance = 146.1, xvar = 231.29, yvar=105.1\n",
        "x1 = [5, 12, 18, 23, 45]\n",
        "y1 = [2, 8, 18, 20, 28]\n",
        "a_x=f_mean(x1)\n",
        "a_y=f_mean(y1)\n",
        "print(\" The xmean is :\\n\",a_x)\n",
        "print('\\n')\n",
        "print(\"The ymean is:\\n\",a_y)\n",
        "print('\\n')\n",
        "print(\"The xvariance is:\\n\",f_variance(x1,a_x))\n",
        "print(\"The yvariance is :\\n\",f_variance(y1,a_y))\n",
        "print(\"The covariance is :\\n\",f_covariance(x1,a_x,y1,a_y))"
      ],
      "metadata": {
        "colab": {
          "base_uri": "https://localhost:8080/"
        },
        "id": "INinh7aClYkN",
        "outputId": "02cf15ad-f84a-4fbd-e962-d5a074bd3081"
      },
      "execution_count": 21,
      "outputs": [
        {
          "output_type": "stream",
          "name": "stdout",
          "text": [
            " The xmean is :\n",
            " 20.6\n",
            "\n",
            "\n",
            "The ymean is:\n",
            " 15.2\n",
            "\n",
            "\n",
            "The xvariance is:\n",
            " 231.29999999999998\n",
            "The yvariance is :\n",
            " 105.2\n",
            "The covariance is :\n",
            " 146.1\n"
          ]
        }
      ]
    },
    {
      "cell_type": "markdown",
      "source": [
        "Creating a coefficient calculator function"
      ],
      "metadata": {
        "id": "0D3CE4FNq506"
      }
    },
    {
      "cell_type": "code",
      "source": [
        "def f_coe(xvalues,xmean,yvalues,ymean):\n",
        "  xmean = f_mean(xvalues)\n",
        "  ymean = f_mean(yvalues)\n",
        "  b1 = ((f_covariance(xvalues,xmean, yvalues, ymean))/f_variance(xvalues,xmean))\n",
        "  b0 = ymean - b1*xmean\n",
        "  return b0,b1\n"
      ],
      "metadata": {
        "id": "_bdhLDoLq9ax"
      },
      "execution_count": 22,
      "outputs": []
    },
    {
      "cell_type": "markdown",
      "source": [
        "Creating the simple linear regression function"
      ],
      "metadata": {
        "id": "GOXV-JuhsZcm"
      }
    },
    {
      "cell_type": "code",
      "source": [
        "def f_slr(x_train,x_test,y_train,y_test):\n",
        "  xmean = f_mean(x_train)\n",
        "  ymean = f_mean(y_train)\n",
        "  b0, b1 = f_coe(x_train,xmean,y_train,ymean)\n",
        "  predicted=[]\n",
        "  for each in x_test:\n",
        "    yhat = b0 + b1*each\n",
        "    predicted.append(yhat)\n",
        "  return predicted\n",
        "\n"
      ],
      "metadata": {
        "id": "D1sV5-iVsciD"
      },
      "execution_count": 23,
      "outputs": []
    },
    {
      "cell_type": "markdown",
      "source": [
        "Using the root mean squared error to calculate the accuracy"
      ],
      "metadata": {
        "id": "RX00v8oDtu73"
      }
    },
    {
      "cell_type": "code",
      "source": [
        "def f_rmse(predicted, actual):\n",
        "  sse = 0.0\n",
        "  for i in range(len(actual)):\n",
        "    err = (predicted[i])-(actual[i])\n",
        "    sse+=err**2\n",
        "  mean_error = sse/float(len(actual))\n",
        "  return sqrt(mean_error)"
      ],
      "metadata": {
        "id": "IrWJVZ7OtyDX"
      },
      "execution_count": 24,
      "outputs": []
    },
    {
      "cell_type": "markdown",
      "source": [
        "Determining the pearson's correlation coefficient"
      ],
      "metadata": {
        "id": "Frha1sRAZfNg"
      }
    },
    {
      "cell_type": "markdown",
      "source": [
        "# Importing the libraries\n"
      ],
      "metadata": {
        "id": "cGjxuNMzrRL8"
      }
    },
    {
      "cell_type": "code",
      "execution_count": 26,
      "metadata": {
        "id": "G6E1CTU8rK6B"
      },
      "outputs": [],
      "source": [
        "import pandas as pd #used for dataframe manipulation\n",
        "import numpy as np # used for array manipulation\n",
        "import matplotlib.pyplot as plt # use for visualization\n",
        "from sklearn.model_selection import train_test_split #using this for splitting the dataset into training and testing sets.\n",
        "from math import sqrt"
      ]
    },
    {
      "cell_type": "markdown",
      "source": [
        "# Importing the dataset"
      ],
      "metadata": {
        "id": "tobR4lLercoB"
      }
    },
    {
      "cell_type": "code",
      "source": [
        "data = pd.read_csv('Pokemon.csv')\n",
        "#here we are using panas to import a csv file."
      ],
      "metadata": {
        "id": "HtwaMKEorh7J"
      },
      "execution_count": 27,
      "outputs": []
    },
    {
      "cell_type": "code",
      "source": [
        "data"
      ],
      "metadata": {
        "colab": {
          "base_uri": "https://localhost:8080/",
          "height": 424
        },
        "id": "3cTftjixrxY0",
        "outputId": "2e70a803-dc54-4db0-e17f-f1bbda338326"
      },
      "execution_count": 28,
      "outputs": [
        {
          "output_type": "execute_result",
          "data": {
            "text/plain": [
              "       #                   Name   Type 1  Type 2  Total  HP  Attack  Defense  \\\n",
              "0      1              Bulbasaur    Grass  Poison    318  45      49       49   \n",
              "1      2                Ivysaur    Grass  Poison    405  60      62       63   \n",
              "2      3               Venusaur    Grass  Poison    525  80      82       83   \n",
              "3      3  VenusaurMega Venusaur    Grass  Poison    625  80     100      123   \n",
              "4      4             Charmander     Fire     NaN    309  39      52       43   \n",
              "..   ...                    ...      ...     ...    ...  ..     ...      ...   \n",
              "795  719                Diancie     Rock   Fairy    600  50     100      150   \n",
              "796  719    DiancieMega Diancie     Rock   Fairy    700  50     160      110   \n",
              "797  720    HoopaHoopa Confined  Psychic   Ghost    600  80     110       60   \n",
              "798  720     HoopaHoopa Unbound  Psychic    Dark    680  80     160       60   \n",
              "799  721              Volcanion     Fire   Water    600  80     110      120   \n",
              "\n",
              "     Sp. Atk  Sp. Def  Speed  Generation  Legendary  \n",
              "0         65       65     45           1      False  \n",
              "1         80       80     60           1      False  \n",
              "2        100      100     80           1      False  \n",
              "3        122      120     80           1      False  \n",
              "4         60       50     65           1      False  \n",
              "..       ...      ...    ...         ...        ...  \n",
              "795      100      150     50           6       True  \n",
              "796      160      110    110           6       True  \n",
              "797      150      130     70           6       True  \n",
              "798      170      130     80           6       True  \n",
              "799      130       90     70           6       True  \n",
              "\n",
              "[800 rows x 13 columns]"
            ],
            "text/html": [
              "\n",
              "  <div id=\"df-3e2b7535-6b6e-4f0c-b079-290ac1be1889\">\n",
              "    <div class=\"colab-df-container\">\n",
              "      <div>\n",
              "<style scoped>\n",
              "    .dataframe tbody tr th:only-of-type {\n",
              "        vertical-align: middle;\n",
              "    }\n",
              "\n",
              "    .dataframe tbody tr th {\n",
              "        vertical-align: top;\n",
              "    }\n",
              "\n",
              "    .dataframe thead th {\n",
              "        text-align: right;\n",
              "    }\n",
              "</style>\n",
              "<table border=\"1\" class=\"dataframe\">\n",
              "  <thead>\n",
              "    <tr style=\"text-align: right;\">\n",
              "      <th></th>\n",
              "      <th>#</th>\n",
              "      <th>Name</th>\n",
              "      <th>Type 1</th>\n",
              "      <th>Type 2</th>\n",
              "      <th>Total</th>\n",
              "      <th>HP</th>\n",
              "      <th>Attack</th>\n",
              "      <th>Defense</th>\n",
              "      <th>Sp. Atk</th>\n",
              "      <th>Sp. Def</th>\n",
              "      <th>Speed</th>\n",
              "      <th>Generation</th>\n",
              "      <th>Legendary</th>\n",
              "    </tr>\n",
              "  </thead>\n",
              "  <tbody>\n",
              "    <tr>\n",
              "      <th>0</th>\n",
              "      <td>1</td>\n",
              "      <td>Bulbasaur</td>\n",
              "      <td>Grass</td>\n",
              "      <td>Poison</td>\n",
              "      <td>318</td>\n",
              "      <td>45</td>\n",
              "      <td>49</td>\n",
              "      <td>49</td>\n",
              "      <td>65</td>\n",
              "      <td>65</td>\n",
              "      <td>45</td>\n",
              "      <td>1</td>\n",
              "      <td>False</td>\n",
              "    </tr>\n",
              "    <tr>\n",
              "      <th>1</th>\n",
              "      <td>2</td>\n",
              "      <td>Ivysaur</td>\n",
              "      <td>Grass</td>\n",
              "      <td>Poison</td>\n",
              "      <td>405</td>\n",
              "      <td>60</td>\n",
              "      <td>62</td>\n",
              "      <td>63</td>\n",
              "      <td>80</td>\n",
              "      <td>80</td>\n",
              "      <td>60</td>\n",
              "      <td>1</td>\n",
              "      <td>False</td>\n",
              "    </tr>\n",
              "    <tr>\n",
              "      <th>2</th>\n",
              "      <td>3</td>\n",
              "      <td>Venusaur</td>\n",
              "      <td>Grass</td>\n",
              "      <td>Poison</td>\n",
              "      <td>525</td>\n",
              "      <td>80</td>\n",
              "      <td>82</td>\n",
              "      <td>83</td>\n",
              "      <td>100</td>\n",
              "      <td>100</td>\n",
              "      <td>80</td>\n",
              "      <td>1</td>\n",
              "      <td>False</td>\n",
              "    </tr>\n",
              "    <tr>\n",
              "      <th>3</th>\n",
              "      <td>3</td>\n",
              "      <td>VenusaurMega Venusaur</td>\n",
              "      <td>Grass</td>\n",
              "      <td>Poison</td>\n",
              "      <td>625</td>\n",
              "      <td>80</td>\n",
              "      <td>100</td>\n",
              "      <td>123</td>\n",
              "      <td>122</td>\n",
              "      <td>120</td>\n",
              "      <td>80</td>\n",
              "      <td>1</td>\n",
              "      <td>False</td>\n",
              "    </tr>\n",
              "    <tr>\n",
              "      <th>4</th>\n",
              "      <td>4</td>\n",
              "      <td>Charmander</td>\n",
              "      <td>Fire</td>\n",
              "      <td>NaN</td>\n",
              "      <td>309</td>\n",
              "      <td>39</td>\n",
              "      <td>52</td>\n",
              "      <td>43</td>\n",
              "      <td>60</td>\n",
              "      <td>50</td>\n",
              "      <td>65</td>\n",
              "      <td>1</td>\n",
              "      <td>False</td>\n",
              "    </tr>\n",
              "    <tr>\n",
              "      <th>...</th>\n",
              "      <td>...</td>\n",
              "      <td>...</td>\n",
              "      <td>...</td>\n",
              "      <td>...</td>\n",
              "      <td>...</td>\n",
              "      <td>...</td>\n",
              "      <td>...</td>\n",
              "      <td>...</td>\n",
              "      <td>...</td>\n",
              "      <td>...</td>\n",
              "      <td>...</td>\n",
              "      <td>...</td>\n",
              "      <td>...</td>\n",
              "    </tr>\n",
              "    <tr>\n",
              "      <th>795</th>\n",
              "      <td>719</td>\n",
              "      <td>Diancie</td>\n",
              "      <td>Rock</td>\n",
              "      <td>Fairy</td>\n",
              "      <td>600</td>\n",
              "      <td>50</td>\n",
              "      <td>100</td>\n",
              "      <td>150</td>\n",
              "      <td>100</td>\n",
              "      <td>150</td>\n",
              "      <td>50</td>\n",
              "      <td>6</td>\n",
              "      <td>True</td>\n",
              "    </tr>\n",
              "    <tr>\n",
              "      <th>796</th>\n",
              "      <td>719</td>\n",
              "      <td>DiancieMega Diancie</td>\n",
              "      <td>Rock</td>\n",
              "      <td>Fairy</td>\n",
              "      <td>700</td>\n",
              "      <td>50</td>\n",
              "      <td>160</td>\n",
              "      <td>110</td>\n",
              "      <td>160</td>\n",
              "      <td>110</td>\n",
              "      <td>110</td>\n",
              "      <td>6</td>\n",
              "      <td>True</td>\n",
              "    </tr>\n",
              "    <tr>\n",
              "      <th>797</th>\n",
              "      <td>720</td>\n",
              "      <td>HoopaHoopa Confined</td>\n",
              "      <td>Psychic</td>\n",
              "      <td>Ghost</td>\n",
              "      <td>600</td>\n",
              "      <td>80</td>\n",
              "      <td>110</td>\n",
              "      <td>60</td>\n",
              "      <td>150</td>\n",
              "      <td>130</td>\n",
              "      <td>70</td>\n",
              "      <td>6</td>\n",
              "      <td>True</td>\n",
              "    </tr>\n",
              "    <tr>\n",
              "      <th>798</th>\n",
              "      <td>720</td>\n",
              "      <td>HoopaHoopa Unbound</td>\n",
              "      <td>Psychic</td>\n",
              "      <td>Dark</td>\n",
              "      <td>680</td>\n",
              "      <td>80</td>\n",
              "      <td>160</td>\n",
              "      <td>60</td>\n",
              "      <td>170</td>\n",
              "      <td>130</td>\n",
              "      <td>80</td>\n",
              "      <td>6</td>\n",
              "      <td>True</td>\n",
              "    </tr>\n",
              "    <tr>\n",
              "      <th>799</th>\n",
              "      <td>721</td>\n",
              "      <td>Volcanion</td>\n",
              "      <td>Fire</td>\n",
              "      <td>Water</td>\n",
              "      <td>600</td>\n",
              "      <td>80</td>\n",
              "      <td>110</td>\n",
              "      <td>120</td>\n",
              "      <td>130</td>\n",
              "      <td>90</td>\n",
              "      <td>70</td>\n",
              "      <td>6</td>\n",
              "      <td>True</td>\n",
              "    </tr>\n",
              "  </tbody>\n",
              "</table>\n",
              "<p>800 rows × 13 columns</p>\n",
              "</div>\n",
              "      <button class=\"colab-df-convert\" onclick=\"convertToInteractive('df-3e2b7535-6b6e-4f0c-b079-290ac1be1889')\"\n",
              "              title=\"Convert this dataframe to an interactive table.\"\n",
              "              style=\"display:none;\">\n",
              "        \n",
              "  <svg xmlns=\"http://www.w3.org/2000/svg\" height=\"24px\"viewBox=\"0 0 24 24\"\n",
              "       width=\"24px\">\n",
              "    <path d=\"M0 0h24v24H0V0z\" fill=\"none\"/>\n",
              "    <path d=\"M18.56 5.44l.94 2.06.94-2.06 2.06-.94-2.06-.94-.94-2.06-.94 2.06-2.06.94zm-11 1L8.5 8.5l.94-2.06 2.06-.94-2.06-.94L8.5 2.5l-.94 2.06-2.06.94zm10 10l.94 2.06.94-2.06 2.06-.94-2.06-.94-.94-2.06-.94 2.06-2.06.94z\"/><path d=\"M17.41 7.96l-1.37-1.37c-.4-.4-.92-.59-1.43-.59-.52 0-1.04.2-1.43.59L10.3 9.45l-7.72 7.72c-.78.78-.78 2.05 0 2.83L4 21.41c.39.39.9.59 1.41.59.51 0 1.02-.2 1.41-.59l7.78-7.78 2.81-2.81c.8-.78.8-2.07 0-2.86zM5.41 20L4 18.59l7.72-7.72 1.47 1.35L5.41 20z\"/>\n",
              "  </svg>\n",
              "      </button>\n",
              "      \n",
              "  <style>\n",
              "    .colab-df-container {\n",
              "      display:flex;\n",
              "      flex-wrap:wrap;\n",
              "      gap: 12px;\n",
              "    }\n",
              "\n",
              "    .colab-df-convert {\n",
              "      background-color: #E8F0FE;\n",
              "      border: none;\n",
              "      border-radius: 50%;\n",
              "      cursor: pointer;\n",
              "      display: none;\n",
              "      fill: #1967D2;\n",
              "      height: 32px;\n",
              "      padding: 0 0 0 0;\n",
              "      width: 32px;\n",
              "    }\n",
              "\n",
              "    .colab-df-convert:hover {\n",
              "      background-color: #E2EBFA;\n",
              "      box-shadow: 0px 1px 2px rgba(60, 64, 67, 0.3), 0px 1px 3px 1px rgba(60, 64, 67, 0.15);\n",
              "      fill: #174EA6;\n",
              "    }\n",
              "\n",
              "    [theme=dark] .colab-df-convert {\n",
              "      background-color: #3B4455;\n",
              "      fill: #D2E3FC;\n",
              "    }\n",
              "\n",
              "    [theme=dark] .colab-df-convert:hover {\n",
              "      background-color: #434B5C;\n",
              "      box-shadow: 0px 1px 3px 1px rgba(0, 0, 0, 0.15);\n",
              "      filter: drop-shadow(0px 1px 2px rgba(0, 0, 0, 0.3));\n",
              "      fill: #FFFFFF;\n",
              "    }\n",
              "  </style>\n",
              "\n",
              "      <script>\n",
              "        const buttonEl =\n",
              "          document.querySelector('#df-3e2b7535-6b6e-4f0c-b079-290ac1be1889 button.colab-df-convert');\n",
              "        buttonEl.style.display =\n",
              "          google.colab.kernel.accessAllowed ? 'block' : 'none';\n",
              "\n",
              "        async function convertToInteractive(key) {\n",
              "          const element = document.querySelector('#df-3e2b7535-6b6e-4f0c-b079-290ac1be1889');\n",
              "          const dataTable =\n",
              "            await google.colab.kernel.invokeFunction('convertToInteractive',\n",
              "                                                     [key], {});\n",
              "          if (!dataTable) return;\n",
              "\n",
              "          const docLinkHtml = 'Like what you see? Visit the ' +\n",
              "            '<a target=\"_blank\" href=https://colab.research.google.com/notebooks/data_table.ipynb>data table notebook</a>'\n",
              "            + ' to learn more about interactive tables.';\n",
              "          element.innerHTML = '';\n",
              "          dataTable['output_type'] = 'display_data';\n",
              "          await google.colab.output.renderOutput(dataTable, element);\n",
              "          const docLink = document.createElement('div');\n",
              "          docLink.innerHTML = docLinkHtml;\n",
              "          element.appendChild(docLink);\n",
              "        }\n",
              "      </script>\n",
              "    </div>\n",
              "  </div>\n",
              "  "
            ]
          },
          "metadata": {},
          "execution_count": 28
        }
      ]
    },
    {
      "cell_type": "markdown",
      "source": [
        "In this case we will only take the columns into conisderation that we require. We are trying to predict the hp of pokemon based on it's type using simple linear regression. We will use the attakc to predict the special attack and see the relation between them"
      ],
      "metadata": {
        "id": "Miv7w_W7sJbU"
      }
    },
    {
      "cell_type": "code",
      "source": [
        "data_to_use = data[['Attack','Sp. Atk']]"
      ],
      "metadata": {
        "id": "aCWjdsttrtky"
      },
      "execution_count": 29,
      "outputs": []
    },
    {
      "cell_type": "code",
      "source": [
        "data_to_use"
      ],
      "metadata": {
        "colab": {
          "base_uri": "https://localhost:8080/",
          "height": 424
        },
        "id": "kMwJEMmRsiIa",
        "outputId": "0b42bbe3-5fb5-4c54-cdfb-8ad42d5f5fd2"
      },
      "execution_count": 30,
      "outputs": [
        {
          "output_type": "execute_result",
          "data": {
            "text/plain": [
              "     Attack  Sp. Atk\n",
              "0        49       65\n",
              "1        62       80\n",
              "2        82      100\n",
              "3       100      122\n",
              "4        52       60\n",
              "..      ...      ...\n",
              "795     100      100\n",
              "796     160      160\n",
              "797     110      150\n",
              "798     160      170\n",
              "799     110      130\n",
              "\n",
              "[800 rows x 2 columns]"
            ],
            "text/html": [
              "\n",
              "  <div id=\"df-35dfbce6-ad51-47b0-8b82-dbfaf271a329\">\n",
              "    <div class=\"colab-df-container\">\n",
              "      <div>\n",
              "<style scoped>\n",
              "    .dataframe tbody tr th:only-of-type {\n",
              "        vertical-align: middle;\n",
              "    }\n",
              "\n",
              "    .dataframe tbody tr th {\n",
              "        vertical-align: top;\n",
              "    }\n",
              "\n",
              "    .dataframe thead th {\n",
              "        text-align: right;\n",
              "    }\n",
              "</style>\n",
              "<table border=\"1\" class=\"dataframe\">\n",
              "  <thead>\n",
              "    <tr style=\"text-align: right;\">\n",
              "      <th></th>\n",
              "      <th>Attack</th>\n",
              "      <th>Sp. Atk</th>\n",
              "    </tr>\n",
              "  </thead>\n",
              "  <tbody>\n",
              "    <tr>\n",
              "      <th>0</th>\n",
              "      <td>49</td>\n",
              "      <td>65</td>\n",
              "    </tr>\n",
              "    <tr>\n",
              "      <th>1</th>\n",
              "      <td>62</td>\n",
              "      <td>80</td>\n",
              "    </tr>\n",
              "    <tr>\n",
              "      <th>2</th>\n",
              "      <td>82</td>\n",
              "      <td>100</td>\n",
              "    </tr>\n",
              "    <tr>\n",
              "      <th>3</th>\n",
              "      <td>100</td>\n",
              "      <td>122</td>\n",
              "    </tr>\n",
              "    <tr>\n",
              "      <th>4</th>\n",
              "      <td>52</td>\n",
              "      <td>60</td>\n",
              "    </tr>\n",
              "    <tr>\n",
              "      <th>...</th>\n",
              "      <td>...</td>\n",
              "      <td>...</td>\n",
              "    </tr>\n",
              "    <tr>\n",
              "      <th>795</th>\n",
              "      <td>100</td>\n",
              "      <td>100</td>\n",
              "    </tr>\n",
              "    <tr>\n",
              "      <th>796</th>\n",
              "      <td>160</td>\n",
              "      <td>160</td>\n",
              "    </tr>\n",
              "    <tr>\n",
              "      <th>797</th>\n",
              "      <td>110</td>\n",
              "      <td>150</td>\n",
              "    </tr>\n",
              "    <tr>\n",
              "      <th>798</th>\n",
              "      <td>160</td>\n",
              "      <td>170</td>\n",
              "    </tr>\n",
              "    <tr>\n",
              "      <th>799</th>\n",
              "      <td>110</td>\n",
              "      <td>130</td>\n",
              "    </tr>\n",
              "  </tbody>\n",
              "</table>\n",
              "<p>800 rows × 2 columns</p>\n",
              "</div>\n",
              "      <button class=\"colab-df-convert\" onclick=\"convertToInteractive('df-35dfbce6-ad51-47b0-8b82-dbfaf271a329')\"\n",
              "              title=\"Convert this dataframe to an interactive table.\"\n",
              "              style=\"display:none;\">\n",
              "        \n",
              "  <svg xmlns=\"http://www.w3.org/2000/svg\" height=\"24px\"viewBox=\"0 0 24 24\"\n",
              "       width=\"24px\">\n",
              "    <path d=\"M0 0h24v24H0V0z\" fill=\"none\"/>\n",
              "    <path d=\"M18.56 5.44l.94 2.06.94-2.06 2.06-.94-2.06-.94-.94-2.06-.94 2.06-2.06.94zm-11 1L8.5 8.5l.94-2.06 2.06-.94-2.06-.94L8.5 2.5l-.94 2.06-2.06.94zm10 10l.94 2.06.94-2.06 2.06-.94-2.06-.94-.94-2.06-.94 2.06-2.06.94z\"/><path d=\"M17.41 7.96l-1.37-1.37c-.4-.4-.92-.59-1.43-.59-.52 0-1.04.2-1.43.59L10.3 9.45l-7.72 7.72c-.78.78-.78 2.05 0 2.83L4 21.41c.39.39.9.59 1.41.59.51 0 1.02-.2 1.41-.59l7.78-7.78 2.81-2.81c.8-.78.8-2.07 0-2.86zM5.41 20L4 18.59l7.72-7.72 1.47 1.35L5.41 20z\"/>\n",
              "  </svg>\n",
              "      </button>\n",
              "      \n",
              "  <style>\n",
              "    .colab-df-container {\n",
              "      display:flex;\n",
              "      flex-wrap:wrap;\n",
              "      gap: 12px;\n",
              "    }\n",
              "\n",
              "    .colab-df-convert {\n",
              "      background-color: #E8F0FE;\n",
              "      border: none;\n",
              "      border-radius: 50%;\n",
              "      cursor: pointer;\n",
              "      display: none;\n",
              "      fill: #1967D2;\n",
              "      height: 32px;\n",
              "      padding: 0 0 0 0;\n",
              "      width: 32px;\n",
              "    }\n",
              "\n",
              "    .colab-df-convert:hover {\n",
              "      background-color: #E2EBFA;\n",
              "      box-shadow: 0px 1px 2px rgba(60, 64, 67, 0.3), 0px 1px 3px 1px rgba(60, 64, 67, 0.15);\n",
              "      fill: #174EA6;\n",
              "    }\n",
              "\n",
              "    [theme=dark] .colab-df-convert {\n",
              "      background-color: #3B4455;\n",
              "      fill: #D2E3FC;\n",
              "    }\n",
              "\n",
              "    [theme=dark] .colab-df-convert:hover {\n",
              "      background-color: #434B5C;\n",
              "      box-shadow: 0px 1px 3px 1px rgba(0, 0, 0, 0.15);\n",
              "      filter: drop-shadow(0px 1px 2px rgba(0, 0, 0, 0.3));\n",
              "      fill: #FFFFFF;\n",
              "    }\n",
              "  </style>\n",
              "\n",
              "      <script>\n",
              "        const buttonEl =\n",
              "          document.querySelector('#df-35dfbce6-ad51-47b0-8b82-dbfaf271a329 button.colab-df-convert');\n",
              "        buttonEl.style.display =\n",
              "          google.colab.kernel.accessAllowed ? 'block' : 'none';\n",
              "\n",
              "        async function convertToInteractive(key) {\n",
              "          const element = document.querySelector('#df-35dfbce6-ad51-47b0-8b82-dbfaf271a329');\n",
              "          const dataTable =\n",
              "            await google.colab.kernel.invokeFunction('convertToInteractive',\n",
              "                                                     [key], {});\n",
              "          if (!dataTable) return;\n",
              "\n",
              "          const docLinkHtml = 'Like what you see? Visit the ' +\n",
              "            '<a target=\"_blank\" href=https://colab.research.google.com/notebooks/data_table.ipynb>data table notebook</a>'\n",
              "            + ' to learn more about interactive tables.';\n",
              "          element.innerHTML = '';\n",
              "          dataTable['output_type'] = 'display_data';\n",
              "          await google.colab.output.renderOutput(dataTable, element);\n",
              "          const docLink = document.createElement('div');\n",
              "          docLink.innerHTML = docLinkHtml;\n",
              "          element.appendChild(docLink);\n",
              "        }\n",
              "      </script>\n",
              "    </div>\n",
              "  </div>\n",
              "  "
            ]
          },
          "metadata": {},
          "execution_count": 30
        }
      ]
    },
    {
      "cell_type": "markdown",
      "source": [
        "Checking for NA Values"
      ],
      "metadata": {
        "id": "YXwFdtedslOY"
      }
    },
    {
      "cell_type": "code",
      "source": [
        "data_to_use.isna().sum()"
      ],
      "metadata": {
        "colab": {
          "base_uri": "https://localhost:8080/"
        },
        "id": "PP9emhJvsjVL",
        "outputId": "1e2b810c-67cf-4cc7-a3cf-49303d9e9cf1"
      },
      "execution_count": 31,
      "outputs": [
        {
          "output_type": "execute_result",
          "data": {
            "text/plain": [
              "Attack     0\n",
              "Sp. Atk    0\n",
              "dtype: int64"
            ]
          },
          "metadata": {},
          "execution_count": 31
        }
      ]
    },
    {
      "cell_type": "markdown",
      "source": [
        "This means we are good to go. Let us check our data using a scatter plot."
      ],
      "metadata": {
        "id": "4omNShv4s1gF"
      }
    },
    {
      "cell_type": "code",
      "source": [
        "x = data_to_use['Attack']\n",
        "y = data_to_use['Sp. Atk']\n",
        "plt.scatter(x, y)"
      ],
      "metadata": {
        "colab": {
          "base_uri": "https://localhost:8080/",
          "height": 284
        },
        "id": "iWsuM-QLyOr9",
        "outputId": "06d3cc30-aedc-4426-984f-99ea67d9f3d1"
      },
      "execution_count": 32,
      "outputs": [
        {
          "output_type": "execute_result",
          "data": {
            "text/plain": [
              "<matplotlib.collections.PathCollection at 0x7f6e73688fa0>"
            ]
          },
          "metadata": {},
          "execution_count": 32
        },
        {
          "output_type": "display_data",
          "data": {
            "text/plain": [
              "<Figure size 432x288 with 1 Axes>"
            ],
            "image/png": "[encoded data removed]"
          },
          "metadata": {
            "needs_background": "light"
          }
        }
      ]
    },
    {
      "cell_type": "markdown",
      "source": [
        "What are all the functions that we will need in this section?\n",
        "1. A mean calculator\n",
        "2. A variance calculator\n",
        "3. A covariance calculator\n",
        "4. A coefficient calculator\n",
        "5. A Predictor\n",
        "6. An error calculator\n",
        "7. A graph showing the actual and predicted values. "
      ],
      "metadata": {
        "id": "ELkffBjoz8fG"
      }
    },
    {
      "cell_type": "code",
      "source": [
        "'''\n",
        "#checking\n",
        "dataset=pd.read_csv('salary_data.csv')\n",
        "x_check = dataset['YearsExperience']\n",
        "x_check = [int(i) for i in x_check]\n",
        "y_check = dataset['Salary']\n",
        "y_check = [int(i) for i in y_check]\n",
        "'''"
      ],
      "metadata": {
        "id": "T19C58BfvXrQ",
        "colab": {
          "base_uri": "https://localhost:8080/",
          "height": 54
        },
        "outputId": "b22a81b7-802c-493d-ce1a-bc232b689159"
      },
      "execution_count": 33,
      "outputs": [
        {
          "output_type": "execute_result",
          "data": {
            "text/plain": [
              "\"\\n#checking\\ndataset=pd.read_csv('salary_data.csv')\\nx_check = dataset['YearsExperience']\\nx_check = [int(i) for i in x_check]\\ny_check = dataset['Salary']\\ny_check = [int(i) for i in y_check]\\n\""
            ],
            "application/vnd.google.colaboratory.intrinsic+json": {
              "type": "string"
            }
          },
          "metadata": {},
          "execution_count": 33
        }
      ]
    },
    {
      "cell_type": "code",
      "source": [
        "#x_train_check,x_test_check,y_train_check,y_test_check = train_test_split(x_check,y_check, test_size=0.2, random_state=6601)"
      ],
      "metadata": {
        "id": "QcJQ4JTKzcvs"
      },
      "execution_count": 34,
      "outputs": []
    },
    {
      "cell_type": "code",
      "source": [
        "'''\n",
        "predicted_values= (f_slr(x_train_check,x_test_check,y_train_check,y_test_check))\n",
        "actual_values = list(y_test_check)\n",
        "'''"
      ],
      "metadata": {
        "id": "T4kZwXcpu_Ft",
        "colab": {
          "base_uri": "https://localhost:8080/",
          "height": 36
        },
        "outputId": "be4586ac-815d-46df-cff7-e173c0701528"
      },
      "execution_count": 35,
      "outputs": [
        {
          "output_type": "execute_result",
          "data": {
            "text/plain": [
              "'\\npredicted_values= (f_slr(x_train_check,x_test_check,y_train_check,y_test_check))\\nactual_values = list(y_test_check)\\n'"
            ],
            "application/vnd.google.colaboratory.intrinsic+json": {
              "type": "string"
            }
          },
          "metadata": {},
          "execution_count": 35
        }
      ]
    },
    {
      "cell_type": "code",
      "source": [
        "'''\n",
        "print(predicted_values)\n",
        "#print(type(predicted_values[0]),type(actual_values))\n",
        "'''"
      ],
      "metadata": {
        "colab": {
          "base_uri": "https://localhost:8080/",
          "height": 36
        },
        "id": "BU7bDetl8bVQ",
        "outputId": "4e6ba983-8d21-4050-fa67-8364fc73480e"
      },
      "execution_count": 36,
      "outputs": [
        {
          "output_type": "execute_result",
          "data": {
            "text/plain": [
              "'\\nprint(predicted_values)\\n#print(type(predicted_values[0]),type(actual_values))\\n'"
            ],
            "application/vnd.google.colaboratory.intrinsic+json": {
              "type": "string"
            }
          },
          "metadata": {},
          "execution_count": 36
        }
      ]
    },
    {
      "cell_type": "code",
      "source": [
        "'''\n",
        "print(predicted_values)\n",
        "rmse = f_rmse(predicted_values,actual_values)\n",
        "print(rmse)\n",
        "print(actual_values)\n",
        "'''"
      ],
      "metadata": {
        "colab": {
          "base_uri": "https://localhost:8080/",
          "height": 36
        },
        "id": "U_NyTYBwvovm",
        "outputId": "2c0b413a-fecc-4fe2-beb9-acfd4b232a25"
      },
      "execution_count": 37,
      "outputs": [
        {
          "output_type": "execute_result",
          "data": {
            "text/plain": [
              "'\\nprint(predicted_values)\\nrmse = f_rmse(predicted_values,actual_values)\\nprint(rmse)\\nprint(actual_values)\\n'"
            ],
            "application/vnd.google.colaboratory.intrinsic+json": {
              "type": "string"
            }
          },
          "metadata": {},
          "execution_count": 37
        }
      ]
    },
    {
      "cell_type": "code",
      "source": [
        "'''\n",
        "x_train= [1,2,4,3,5]\n",
        "x_test = [5]\n",
        "y_train = [1,3,3,2,5]\n",
        "y_test = [5]\n",
        "predicted_values = (f_slr(x_train,x_test,y_train,y_test))\n",
        "actual_values = y_test\n",
        "\n",
        "print(predicted_values)\n",
        "rmse = f_rmse(predicted_values,actual_values)\n",
        "print(rmse)\n",
        "print(actual_values)\n",
        "'''"
      ],
      "metadata": {
        "colab": {
          "base_uri": "https://localhost:8080/",
          "height": 54
        },
        "id": "FsF0QAS0T-ni",
        "outputId": "d5aaeded-8bf2-489c-a48d-0fa86459ea4c"
      },
      "execution_count": 38,
      "outputs": [
        {
          "output_type": "execute_result",
          "data": {
            "text/plain": [
              "'\\nx_train= [1,2,4,3,5]\\nx_test = [5]\\ny_train = [1,3,3,2,5]\\ny_test = [5]\\npredicted_values = (f_slr(x_train,x_test,y_train,y_test))\\nactual_values = y_test\\n\\nprint(predicted_values)\\nrmse = f_rmse(predicted_values,actual_values)\\nprint(rmse)\\nprint(actual_values)\\n'"
            ],
            "application/vnd.google.colaboratory.intrinsic+json": {
              "type": "string"
            }
          },
          "metadata": {},
          "execution_count": 38
        }
      ]
    },
    {
      "cell_type": "code",
      "source": [],
      "metadata": {
        "id": "eQg_YARhVXYD"
      },
      "execution_count": 38,
      "outputs": []
    },
    {
      "cell_type": "markdown",
      "source": [
        "# Implementation on data set"
      ],
      "metadata": {
        "id": "Q5vWIYvQIYb6"
      }
    },
    {
      "cell_type": "code",
      "source": [
        "x = data_to_use['Attack'].values\n",
        "y = data_to_use['Sp. Atk'].values\n",
        "x_train, x_test, y_train,y_test = train_test_split(x,y,test_size=0.2,random_state=6601)\n",
        "predictions = f_slr(x_train,x_test,y_train,y_test)\n",
        "print(predictions)\n",
        "actual = y_test\n",
        "rmse = f_rmse(predictions,actual)\n",
        "print(rmse)\n",
        "print(actual)"
      ],
      "metadata": {
        "colab": {
          "base_uri": "https://localhost:8080/"
        },
        "id": "6pvqQfp_IbZY",
        "outputId": "fa3ff871-82e6-47a6-d97c-3b5598d55278"
      },
      "execution_count": 39,
      "outputs": [
        {
          "output_type": "stream",
          "name": "stdout",
          "text": [
            "[60.126730093280536, 60.126730093280536, 108.14340239323892, 81.95249022962525, 81.95249022962525, 86.31764225689419, 66.67445813418395, 73.22218617508736, 51.39642603874265, 70.16657975599911, 64.49188212054948, 66.67445813418395, 63.18233651236879, 77.5873382023563, 71.47612536417978, 55.761578066011595, 65.36491252600327, 66.67445813418395, 60.126730093280536, 55.761578066011595, 86.31764225689419, 60.126730093280536, 55.761578066011595, 62.309306106915, 47.03127401147371, 51.39642603874265, 66.67445813418395, 73.22218617508736, 84.57158144598662, 66.67445813418395, 89.37324867598245, 71.03961016145288, 85.00809664871352, 84.13506624325973, 75.40476218872183, 79.33339901326389, 65.80142772873016, 66.67445813418395, 86.31764225689419, 64.49188212054948, 71.03961016145288, 73.22218617508736, 57.94415407964607, 65.80142772873016, 51.39642603874265, 71.91264056690667, 96.79400712233965, 68.85703414781842, 103.77825036596997, 97.23052232506654, 51.39642603874265, 99.41309833870102, 81.95249022962525, 79.76991421599078, 66.67445813418395, 95.92097671688586, 83.26203583780594, 57.94415407964607, 103.77825036596997, 64.49188212054948, 77.5873382023563, 90.68279428416314, 81.95249022962525, 62.7458213096419, 70.16657975599911, 86.31764225689419, 95.04794631143207, 60.126730093280536, 95.04794631143207, 81.95249022962525, 65.36491252600327, 71.03961016145288, 92.8653702977976, 81.95249022962525, 51.39642603874265, 99.41309833870102, 71.03961016145288, 66.67445813418395, 92.8653702977976, 66.67445813418395, 90.68279428416314, 60.126730093280536, 64.05536691782258, 60.126730093280536, 55.761578066011595, 81.07945982417147, 90.68279428416314, 79.76991421599078, 95.04794631143207, 68.85703414781842, 95.04794631143207, 51.39642603874265, 64.49188212054948, 74.53173178326804, 81.95249022962525, 59.69021489055364, 73.22218617508736, 75.40476218872183, 92.8653702977976, 66.23794293145706, 95.04794631143207, 62.309306106915, 81.95249022962525, 51.39642603874265, 77.5873382023563, 71.03961016145288, 110.32597840687339, 97.23052232506654, 87.19067266234798, 66.67445813418395, 116.87370644777678, 62.309306106915, 66.23794293145706, 58.81718448509986, 81.95249022962525, 86.31764225689419, 70.16657975599911, 77.5873382023563, 62.309306106915, 60.126730093280536, 74.96824698599494, 81.95249022962525, 71.47612536417978, 112.50855442050783, 73.22218617508736, 66.67445813418395, 81.95249022962525, 79.76991421599078, 95.04794631143207, 64.49188212054948, 62.309306106915, 97.23052232506654, 105.96082637960444, 58.38066928237296, 79.33339901326389, 92.8653702977976, 67.11097333691085, 59.253699687826746, 60.126730093280536, 60.126730093280536, 83.69855104053283, 62.309306106915, 79.76991421599078, 64.92839732327637, 79.76991421599078, 77.5873382023563, 84.13506624325973, 81.95249022962525, 60.126730093280536, 66.67445813418395, 62.309306106915, 86.31764225689419, 60.126730093280536, 55.761578066011595, 62.309306106915, 61.43627570146122, 77.5873382023563, 63.61885171509569, 54.015517255104015, 81.95249022962525]\n",
            "32.85441435110768\n",
            "[ 60 120 130 125 105  60  80  70  55  73 100  80  40 130  54  40  63  45\n",
            "  50  65  65  73  30  60  40  55  62 110  86 105  40  40  74  65  85  94\n",
            "  41  55 115  35  35 135  62  50  40  50 100  50 150  60 140  55 100  35\n",
            "  75 132 135  75  15 130 140 120  30  62  56 130  80 100  70  60  62 105\n",
            " 125 110  30  30  40 125  30  35 150  40  79  95  40  98  55  60  95  75\n",
            "  45  40  85  37 100  49  40  85  55  45  75 145  90  55  90 100  65  60\n",
            "  74  92 180 109  50  40  80 100  47  58 100  50 114  58  81 120  30 110\n",
            " 100  45  55 110  45  95  65  35  54  60  44  46  50  95  94  85  60  61\n",
            "  45  60  35  65 175  65  55 150  30  70  45  58  90  81  32  80]\n"
          ]
        }
      ]
    },
    {
      "cell_type": "code",
      "source": [
        "b0,b1 = f_coe(x_train,1,y_train,1)\n",
        "plt.plot(x,y,'o')\n",
        "plt.plot(x,b0+b1*x)"
      ],
      "metadata": {
        "colab": {
          "base_uri": "https://localhost:8080/",
          "height": 284
        },
        "id": "6SiFCzQ6JBdY",
        "outputId": "8cc27e23-b070-4513-ba46-3a09e14b1b2a"
      },
      "execution_count": 40,
      "outputs": [
        {
          "output_type": "execute_result",
          "data": {
            "text/plain": [
              "[<matplotlib.lines.Line2D at 0x7f6e73170fd0>]"
            ]
          },
          "metadata": {},
          "execution_count": 40
        },
        {
          "output_type": "display_data",
          "data": {
            "text/plain": [
              "<Figure size 432x288 with 1 Axes>"
            ],
            "image/png": "[encoded data removed]"
          },
          "metadata": {
            "needs_background": "light"
          }
        }
      ]
    },
    {
      "cell_type": "code",
      "source": [
        "final_predictions = pd.DataFrame(list(zip(x_test,y_test,predictions)), columns=['Attack','Actual Special Attack','Prediction'])"
      ],
      "metadata": {
        "id": "VZbr98OEKA84"
      },
      "execution_count": 41,
      "outputs": []
    },
    {
      "cell_type": "code",
      "source": [
        "final_predictions"
      ],
      "metadata": {
        "colab": {
          "base_uri": "https://localhost:8080/",
          "height": 424
        },
        "id": "V81mb6qdKdLa",
        "outputId": "ae8a48b1-0ab1-418b-bf81-0b3a77a6a8b2"
      },
      "execution_count": 42,
      "outputs": [
        {
          "output_type": "execute_result",
          "data": {
            "text/plain": [
              "     Attack  Actual Special Attack  Prediction\n",
              "0        50                     60   60.126730\n",
              "1        50                    120   60.126730\n",
              "2       160                    130  108.143402\n",
              "3       100                    125   81.952490\n",
              "4       100                    105   81.952490\n",
              "..      ...                    ...         ...\n",
              "155      53                     58   61.436276\n",
              "156      90                     90   77.587338\n",
              "157      58                     81   63.618852\n",
              "158      36                     32   54.015517\n",
              "159     100                     80   81.952490\n",
              "\n",
              "[160 rows x 3 columns]"
            ],
            "text/html": [
              "\n",
              "  <div id=\"df-997d5403-deac-4e61-ba6b-626d96b2e5f1\">\n",
              "    <div class=\"colab-df-container\">\n",
              "      <div>\n",
              "<style scoped>\n",
              "    .dataframe tbody tr th:only-of-type {\n",
              "        vertical-align: middle;\n",
              "    }\n",
              "\n",
              "    .dataframe tbody tr th {\n",
              "        vertical-align: top;\n",
              "    }\n",
              "\n",
              "    .dataframe thead th {\n",
              "        text-align: right;\n",
              "    }\n",
              "</style>\n",
              "<table border=\"1\" class=\"dataframe\">\n",
              "  <thead>\n",
              "    <tr style=\"text-align: right;\">\n",
              "      <th></th>\n",
              "      <th>Attack</th>\n",
              "      <th>Actual Special Attack</th>\n",
              "      <th>Prediction</th>\n",
              "    </tr>\n",
              "  </thead>\n",
              "  <tbody>\n",
              "    <tr>\n",
              "      <th>0</th>\n",
              "      <td>50</td>\n",
              "      <td>60</td>\n",
              "      <td>60.126730</td>\n",
              "    </tr>\n",
              "    <tr>\n",
              "      <th>1</th>\n",
              "      <td>50</td>\n",
              "      <td>120</td>\n",
              "      <td>60.126730</td>\n",
              "    </tr>\n",
              "    <tr>\n",
              "      <th>2</th>\n",
              "      <td>160</td>\n",
              "      <td>130</td>\n",
              "      <td>108.143402</td>\n",
              "    </tr>\n",
              "    <tr>\n",
              "      <th>3</th>\n",
              "      <td>100</td>\n",
              "      <td>125</td>\n",
              "      <td>81.952490</td>\n",
              "    </tr>\n",
              "    <tr>\n",
              "      <th>4</th>\n",
              "      <td>100</td>\n",
              "      <td>105</td>\n",
              "      <td>81.952490</td>\n",
              "    </tr>\n",
              "    <tr>\n",
              "      <th>...</th>\n",
              "      <td>...</td>\n",
              "      <td>...</td>\n",
              "      <td>...</td>\n",
              "    </tr>\n",
              "    <tr>\n",
              "      <th>155</th>\n",
              "      <td>53</td>\n",
              "      <td>58</td>\n",
              "      <td>61.436276</td>\n",
              "    </tr>\n",
              "    <tr>\n",
              "      <th>156</th>\n",
              "      <td>90</td>\n",
              "      <td>90</td>\n",
              "      <td>77.587338</td>\n",
              "    </tr>\n",
              "    <tr>\n",
              "      <th>157</th>\n",
              "      <td>58</td>\n",
              "      <td>81</td>\n",
              "      <td>63.618852</td>\n",
              "    </tr>\n",
              "    <tr>\n",
              "      <th>158</th>\n",
              "      <td>36</td>\n",
              "      <td>32</td>\n",
              "      <td>54.015517</td>\n",
              "    </tr>\n",
              "    <tr>\n",
              "      <th>159</th>\n",
              "      <td>100</td>\n",
              "      <td>80</td>\n",
              "      <td>81.952490</td>\n",
              "    </tr>\n",
              "  </tbody>\n",
              "</table>\n",
              "<p>160 rows × 3 columns</p>\n",
              "</div>\n",
              "      <button class=\"colab-df-convert\" onclick=\"convertToInteractive('df-997d5403-deac-4e61-ba6b-626d96b2e5f1')\"\n",
              "              title=\"Convert this dataframe to an interactive table.\"\n",
              "              style=\"display:none;\">\n",
              "        \n",
              "  <svg xmlns=\"http://www.w3.org/2000/svg\" height=\"24px\"viewBox=\"0 0 24 24\"\n",
              "       width=\"24px\">\n",
              "    <path d=\"M0 0h24v24H0V0z\" fill=\"none\"/>\n",
              "    <path d=\"M18.56 5.44l.94 2.06.94-2.06 2.06-.94-2.06-.94-.94-2.06-.94 2.06-2.06.94zm-11 1L8.5 8.5l.94-2.06 2.06-.94-2.06-.94L8.5 2.5l-.94 2.06-2.06.94zm10 10l.94 2.06.94-2.06 2.06-.94-2.06-.94-.94-2.06-.94 2.06-2.06.94z\"/><path d=\"M17.41 7.96l-1.37-1.37c-.4-.4-.92-.59-1.43-.59-.52 0-1.04.2-1.43.59L10.3 9.45l-7.72 7.72c-.78.78-.78 2.05 0 2.83L4 21.41c.39.39.9.59 1.41.59.51 0 1.02-.2 1.41-.59l7.78-7.78 2.81-2.81c.8-.78.8-2.07 0-2.86zM5.41 20L4 18.59l7.72-7.72 1.47 1.35L5.41 20z\"/>\n",
              "  </svg>\n",
              "      </button>\n",
              "      \n",
              "  <style>\n",
              "    .colab-df-container {\n",
              "      display:flex;\n",
              "      flex-wrap:wrap;\n",
              "      gap: 12px;\n",
              "    }\n",
              "\n",
              "    .colab-df-convert {\n",
              "      background-color: #E8F0FE;\n",
              "      border: none;\n",
              "      border-radius: 50%;\n",
              "      cursor: pointer;\n",
              "      display: none;\n",
              "      fill: #1967D2;\n",
              "      height: 32px;\n",
              "      padding: 0 0 0 0;\n",
              "      width: 32px;\n",
              "    }\n",
              "\n",
              "    .colab-df-convert:hover {\n",
              "      background-color: #E2EBFA;\n",
              "      box-shadow: 0px 1px 2px rgba(60, 64, 67, 0.3), 0px 1px 3px 1px rgba(60, 64, 67, 0.15);\n",
              "      fill: #174EA6;\n",
              "    }\n",
              "\n",
              "    [theme=dark] .colab-df-convert {\n",
              "      background-color: #3B4455;\n",
              "      fill: #D2E3FC;\n",
              "    }\n",
              "\n",
              "    [theme=dark] .colab-df-convert:hover {\n",
              "      background-color: #434B5C;\n",
              "      box-shadow: 0px 1px 3px 1px rgba(0, 0, 0, 0.15);\n",
              "      filter: drop-shadow(0px 1px 2px rgba(0, 0, 0, 0.3));\n",
              "      fill: #FFFFFF;\n",
              "    }\n",
              "  </style>\n",
              "\n",
              "      <script>\n",
              "        const buttonEl =\n",
              "          document.querySelector('#df-997d5403-deac-4e61-ba6b-626d96b2e5f1 button.colab-df-convert');\n",
              "        buttonEl.style.display =\n",
              "          google.colab.kernel.accessAllowed ? 'block' : 'none';\n",
              "\n",
              "        async function convertToInteractive(key) {\n",
              "          const element = document.querySelector('#df-997d5403-deac-4e61-ba6b-626d96b2e5f1');\n",
              "          const dataTable =\n",
              "            await google.colab.kernel.invokeFunction('convertToInteractive',\n",
              "                                                     [key], {});\n",
              "          if (!dataTable) return;\n",
              "\n",
              "          const docLinkHtml = 'Like what you see? Visit the ' +\n",
              "            '<a target=\"_blank\" href=https://colab.research.google.com/notebooks/data_table.ipynb>data table notebook</a>'\n",
              "            + ' to learn more about interactive tables.';\n",
              "          element.innerHTML = '';\n",
              "          dataTable['output_type'] = 'display_data';\n",
              "          await google.colab.output.renderOutput(dataTable, element);\n",
              "          const docLink = document.createElement('div');\n",
              "          docLink.innerHTML = docLinkHtml;\n",
              "          element.appendChild(docLink);\n",
              "        }\n",
              "      </script>\n",
              "    </div>\n",
              "  </div>\n",
              "  "
            ]
          },
          "metadata": {},
          "execution_count": 42
        }
      ]
    },
    {
      "cell_type": "code",
      "source": [
        "from scipy.stats import pearsonr\n",
        "x = list(x)\n",
        "y = list(y)\n",
        "r, _ = pearsonr(x,y)\n",
        "print(\"The correlation coefficient is\\n\",r)"
      ],
      "metadata": {
        "id": "K0RZ37uOK2F1",
        "colab": {
          "base_uri": "https://localhost:8080/"
        },
        "outputId": "4407fd40-41fd-4003-b222-08c87283c438"
      },
      "execution_count": 51,
      "outputs": [
        {
          "output_type": "stream",
          "name": "stdout",
          "text": [
            "The correlation coefficient is\n",
            " 0.3963617553492318\n"
          ]
        }
      ]
    },
    {
      "cell_type": "markdown",
      "source": [
        "# Conclusion"
      ],
      "metadata": {
        "id": "T__TZBBpc_m7"
      }
    },
    {
      "cell_type": "markdown",
      "source": [
        "It can be seen that in all pokemons the correlation between attack and special attack is somewhat positively correlated. Meaning the Sp. Attack of a pokemon is likely to increase with it's attack"
      ],
      "metadata": {
        "id": "Ph_2lxWgdDhi"
      }
    }
  ]
}